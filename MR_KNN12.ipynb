{
  "nbformat": 4,
  "nbformat_minor": 0,
  "metadata": {
    "colab": {
      "name": "MR_KNN12.ipynb",
      "provenance": []
    },
    "kernelspec": {
      "name": "python3",
      "display_name": "Python 3"
    },
    "language_info": {
      "name": "python"
    }
  },
  "cells": [
    {
      "cell_type": "code",
      "execution_count": null,
      "metadata": {
        "id": "FADABXcC9gjD"
      },
      "outputs": [],
      "source": [
        "import pandas as pd\n",
        "import numpy as np\n",
        "r_cols = ['user_id', 'movie_id', 'rating']\n",
        "ratings = pd.read_csv('ml-100k/u.data', sep='\\t', names=r_cols, usecols=range(3))\n",
        "ratings.head()"
      ]
    },
    {
      "cell_type": "code",
      "source": [
        "movieProperties = ratings.groupby('movie_id').agg({'rating': [np.size, np.mean]})\n",
        "movieProperties.head()"
      ],
      "metadata": {
        "id": "5KWYBvpO9i56"
      },
      "execution_count": null,
      "outputs": []
    },
    {
      "cell_type": "code",
      "source": [
        "movieNumRatings = pd.DataFrame(movieProperties['rating']['size'])\n",
        "movieNormalizedNumRatings = movieNumRatings.apply(lambda x: (x - np.min(x)) / (np.max(x) - np.min(x)))\n",
        "movieNormalizedNumRatings.head()"
      ],
      "metadata": {
        "id": "z-yyq2kZ9ne1"
      },
      "execution_count": null,
      "outputs": []
    },
    {
      "cell_type": "code",
      "source": [
        "movieDict = {}\n",
        "with open(r'ml-100k/u.item', encoding=\"ISO-8859-1\") as f:\n",
        "    temp = ''\n",
        "    for line in f:\n",
        "        #line.encode().decode(\"ISO-8859-1\")\n",
        "        fields = line.rstrip('\\n').split('|')\n",
        "        movieID = int(fields[0])\n",
        "        name = fields[1]\n",
        "        genres = fields[5:25]\n",
        "        genres = map(int, genres)\n",
        "        movieDict[movieID] = (name, np.array(list(genres)), movieNormalizedNumRatings.loc[movieID].get('size'), movieProperties.loc[movieID].rating.get('mean'))"
      ],
      "metadata": {
        "id": "mNq-qK259qjX"
      },
      "execution_count": null,
      "outputs": []
    },
    {
      "cell_type": "code",
      "source": [
        "print(movieDict[1])"
      ],
      "metadata": {
        "id": "Rf-n8ErK9u9N"
      },
      "execution_count": null,
      "outputs": []
    },
    {
      "cell_type": "code",
      "source": [
        "from scipy import spatial\n",
        "\n",
        "def ComputeDistance(a, b):\n",
        "    genresA = a[1]\n",
        "    genresB = b[1]\n",
        "    genreDistance = spatial.distance.cosine(genresA, genresB)\n",
        "    popularityA = a[2]\n",
        "    popularityB = b[2]\n",
        "    popularityDistance = abs(popularityA - popularityB)\n",
        "    return genreDistance + popularityDistance\n",
        "\n",
        "ComputeDistance(movieDict[1], movieDict[4])"
      ],
      "metadata": {
        "id": "NprDu1Qg9yp6"
      },
      "execution_count": null,
      "outputs": []
    },
    {
      "cell_type": "code",
      "source": [
        "import operator\n",
        "\n",
        "def getNeighbors(movieID, K):\n",
        "    distances = []\n",
        "    for movie in movieDict:\n",
        "        if (movie != movieID):\n",
        "            dist = ComputeDistance(movieDict[movieID], movieDict[movie])\n",
        "            distances.append((movie, dist))\n",
        "    distances.sort(key=operator.itemgetter(1))\n",
        "    neighbors = []\n",
        "    for x in range(K):\n",
        "        neighbors.append(distances[x][0])\n",
        "    return neighbors\n",
        "\n",
        "K = 10\n",
        "avgRating = 0\n",
        "\n",
        "print(movieDict[1], '\\n')\n",
        "neighbors = getNeighbors(1, K) # Toy Story (1995)\n",
        "for neighbor in neighbors:\n",
        "    avgRating += movieDict[neighbor][3]\n",
        "    print (movieDict[neighbor][0] + \" \" + str(movieDict[neighbor][3]))\n",
        "\n",
        "avgRating /= K"
      ],
      "metadata": {
        "id": "L-tWwve592R6"
      },
      "execution_count": null,
      "outputs": []
    }
  ]
}